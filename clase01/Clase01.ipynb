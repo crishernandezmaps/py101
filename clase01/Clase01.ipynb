{
 "cells": [
  {
   "cell_type": "markdown",
   "metadata": {},
   "source": [
    "# PY101: Curso Python para principiantes - Clase 01 "
   ]
  },
  {
   "cell_type": "markdown",
   "metadata": {},
   "source": [
    "## Objetivo\n",
    "> El objetivo de esta clase es configurar todo lo necesario para poder lograr un flujo eficiente de programación. Asimismo, poder entender el sentido del uso de dichas herramientas.\n",
    "\n",
    "## Contenido\n",
    "1. Instalación de Python3\n",
    "2. Instalación de Pip\n",
    "3. Instalación de Git (cuenta en Github)\n",
    "4. Instalación de Jupyter Notebook\n",
    "5. Instalación de Visual Studio Code\n",
    "\n",
    "### 1. Python3\n",
    "https://programwithus.com/learn-to-code/install-python3-mac/ \n",
    "\n",
    "#### 1.1 Windows\n",
    "##### Pasos:\n",
    "- Descargar versión de Python 3.7.6 desde aquí: https://www.python.org/downloads/windows/ (instrucciones detalladas [aquí](https://www.python.org/downloads/windows/)\n",
    "> Note: If your Windows installation is a 32-bit system, you need the Windows x86 executable installer. If your Windows is a 64-bit version, you need to download the Windows x86-64 executable installer. There is nothing to worry about if you install the “wrong” version. You can uninstall one version of Python and install another.\n",
    "\n",
    "- ![](https://phoenixnap.com/kb/wp-content/uploads/2019/04/python-setup.png)\n",
    "- ![](https://phoenixnap.com/kb/wp-content/uploads/2019/04/python-setup-completed.png)\n",
    "\n",
    "> Note: You can also check whether the installation was successful by typing python –V in Command Prompt. The output should display your installed version of Python. In our case, it is “Python 3.7.3.”\n",
    "\n",
    "- Verificar si Pip fue instalado: \n",
    "    - Start > “cmd.” > Command Prompt > pip -V \n",
    "    - ![](https://phoenixnap.com/kb/wp-content/uploads/2019/04/verify-pip.png)\n",
    "\n",
    "\n",
    "- Si PATH no ha sido configurado en la instalación ir al paso 6 [aquí](https://phoenixnap.com/kb/how-to-install-python-3-windows/). Otra opción es seguir estas instrucciones: https://projects.raspberrypi.org/en/projects/using-pip-on-windows/5\n",
    "\n",
    "#### 1.2 Mac\n",
    "#### 1.3 Linux\n",
    "\n",
    "### 2. Pip\n",
    "wadaw\n",
    "\n",
    "### 3. Git/Github\n",
    "#### 3.1 Git\n",
    "#### 3.2 Github\n",
    "\n",
    "### 4. Jupyter Notebook\n",
    "dawdaw\n",
    "\n",
    "### 5. Visual Studio Code\n",
    "dawdawd\n",
    "https://stackoverflow.com/questions/37700536/visual-studio-code-terminal-how-to-run-a-command-with-administrator-rights"
   ]
  }
 ],
 "metadata": {
  "kernelspec": {
   "display_name": "Python 3",
   "language": "python",
   "name": "python3"
  },
  "language_info": {
   "codemirror_mode": {
    "name": "ipython",
    "version": 3
   },
   "file_extension": ".py",
   "mimetype": "text/x-python",
   "name": "python",
   "nbconvert_exporter": "python",
   "pygments_lexer": "ipython3",
   "version": "3.7.6"
  }
 },
 "nbformat": 4,
 "nbformat_minor": 2
}
