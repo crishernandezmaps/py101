{
 "cells": [
  {
   "cell_type": "markdown",
   "metadata": {},
   "source": [
    "# PY101: Curso Python para principiantes - Clase 01 "
   ]
  },
  {
   "cell_type": "markdown",
   "metadata": {},
   "source": [
    "## Objetivo\n",
    "> El objetivo de esta clase es configurar todo lo necesario para poder lograr un flujo eficiente de programación. Asimismo, poder entender el sentido del uso de dichas herramientas.\n",
    "\n",
    "## Contenido\n",
    "1. Instalación de Python3\n",
    "2. Instalación de Pip\n",
    "3. Instalación de Git (cuenta en Github)\n",
    "4. Instalación de Jupyter Notebook\n",
    "5. Instalación de Visual Studio Code\n",
    "\n",
    "### 1. Python3\n",
    "wad"
   ]
  }
 ],
 "metadata": {
  "kernelspec": {
   "display_name": "Python 3",
   "language": "python",
   "name": "python3"
  },
  "language_info": {
   "codemirror_mode": {
    "name": "ipython",
    "version": 3
   },
   "file_extension": ".py",
   "mimetype": "text/x-python",
   "name": "python",
   "nbconvert_exporter": "python",
   "pygments_lexer": "ipython3",
   "version": "3.7.6"
  }
 },
 "nbformat": 4,
 "nbformat_minor": 2
}
