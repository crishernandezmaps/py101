{
 "cells": [
  {
   "cell_type": "code",
   "execution_count": 47,
   "metadata": {},
   "outputs": [
    {
     "name": "stdout",
     "output_type": "stream",
     "text": [
      "<class 'NoneType'>\n"
     ]
    }
   ],
   "source": [
    "# Defining objects\n",
    "my_int = 1000 # Integer\n",
    "my_string = 'Dog' # String\n",
    "my_float = 10.5 # Float\n",
    "my_bool = False # False\n",
    "my_none = None # NoneType\n",
    "\n",
    "print(type(my_none))"
   ]
  },
  {
   "cell_type": "code",
   "execution_count": 49,
   "metadata": {},
   "outputs": [
    {
     "name": "stdout",
     "output_type": "stream",
     "text": [
      "0\n"
     ]
    }
   ],
   "source": [
    "evaluate_actions_with_python_objects = my_bool * 10\n",
    "\n",
    "print(evaluate_actions_with_python_objects)"
   ]
  },
  {
   "cell_type": "code",
   "execution_count": 65,
   "metadata": {},
   "outputs": [],
   "source": [
    "# Containers\n",
    "my_list_one = [1, 2, 3, 'dog', False, 100]"
   ]
  },
  {
   "cell_type": "code",
   "execution_count": 53,
   "metadata": {},
   "outputs": [
    {
     "data": {
      "text/plain": [
       "6"
      ]
     },
     "execution_count": 53,
     "metadata": {},
     "output_type": "execute_result"
    }
   ],
   "source": [
    "# lenght\n",
    "len(my_list_one)"
   ]
  },
  {
   "cell_type": "code",
   "execution_count": 64,
   "metadata": {},
   "outputs": [
    {
     "name": "stdout",
     "output_type": "stream",
     "text": [
      "This is second element (-2): False\n"
     ]
    }
   ],
   "source": [
    "print('This is second element (-2): ' + str(my_list_one[-2]))"
   ]
  },
  {
   "cell_type": "code",
   "execution_count": 66,
   "metadata": {},
   "outputs": [
    {
     "data": {
      "text/plain": [
       "True"
      ]
     },
     "execution_count": 66,
     "metadata": {},
     "output_type": "execute_result"
    }
   ],
   "source": [
    "my_list_one[5] == my_list_one[-1] # Comparison"
   ]
  },
  {
   "cell_type": "code",
   "execution_count": 71,
   "metadata": {},
   "outputs": [
    {
     "name": "stdout",
     "output_type": "stream",
     "text": [
      "True\n"
     ]
    }
   ],
   "source": [
    "sub_list = ['cat', True]\n",
    "my_list_two = [10, 2.4, sub_list]\n",
    "\n",
    "new_var_true = my_list_two[-1][-1]\n",
    "print(new_var_true)"
   ]
  },
  {
   "cell_type": "code",
   "execution_count": 81,
   "metadata": {},
   "outputs": [
    {
     "name": "stdout",
     "output_type": "stream",
     "text": [
      "The index of 10 is 0\n",
      "The index of 2.4 is 1\n",
      "The index of ['cat', True] is 2\n"
     ]
    }
   ],
   "source": [
    "for element in my_list_two:\n",
    "    j = 'The index of {} is {}'.format(element, my_list_two.index(element))\n",
    "    print(j)"
   ]
  },
  {
   "cell_type": "code",
   "execution_count": 87,
   "metadata": {},
   "outputs": [],
   "source": [
    "name = 'Name'\n",
    "last_name = 'Last_Name'\n",
    "a_num = 10"
   ]
  },
  {
   "cell_type": "code",
   "execution_count": 97,
   "metadata": {},
   "outputs": [
    {
     "name": "stdout",
     "output_type": "stream",
     "text": [
      "Name Last_Name 10\n",
      "Name Last_Name 10\n",
      "Name Last_Name 10\n"
     ]
    }
   ],
   "source": [
    "print(name + ' ' + last_name + ' ' + str(a_num)) # adding strings\n",
    "print('{} {} {}'.format(name, last_name, a_num)) # format\n",
    "print(f'{name} {last_name} {a_num}') # f string "
   ]
  }
 ],
 "metadata": {
  "kernelspec": {
   "display_name": "Python 3",
   "language": "python",
   "name": "python3"
  },
  "language_info": {
   "codemirror_mode": {
    "name": "ipython",
    "version": 3
   },
   "file_extension": ".py",
   "mimetype": "text/x-python",
   "name": "python",
   "nbconvert_exporter": "python",
   "pygments_lexer": "ipython3",
   "version": "3.7.6"
  }
 },
 "nbformat": 4,
 "nbformat_minor": 4
}
