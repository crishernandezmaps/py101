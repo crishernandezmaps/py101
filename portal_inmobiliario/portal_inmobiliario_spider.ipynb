{
 "cells": [
  {
   "cell_type": "code",
   "execution_count": 1,
   "metadata": {},
   "outputs": [],
   "source": [
    "import requests as req\n",
    "from bs4 import BeautifulSoup\n",
    "import random\n",
    "import sys\n",
    "import re\n",
    "import pandas as pd"
   ]
  },
  {
   "cell_type": "code",
   "execution_count": 2,
   "metadata": {},
   "outputs": [],
   "source": [
    "def making_soup(u):\n",
    "    try:\n",
    "        uas = (\"Mozilla/5.0 (Windows NT 6.1; WOW64; rv:40.0) Gecko/20100101 Firefox/40.1\",\n",
    "               \"Mozilla/5.0 (Windows NT 6.3; rv:36.0) Gecko/20100101 Firefox/36.0\",\n",
    "               \"Mozilla/5.0 (Macintosh; Intel Mac OS X 10_10; rv:33.0) Gecko/20100101 Firefox/33.0\",\n",
    "               \"Mozilla/5.0 (Windows NT 6.1) AppleWebKit/537.36 (KHTML, like Gecko) Chrome/41.0.2228.0 Safari/537.36\",\n",
    "               \"Mozilla/5.0 (Macintosh; Intel Mac OS X 10_10_1) AppleWebKit/537.36 (KHTML, like Gecko) Chrome/41.0.2227.1 Safari/537.36\",\n",
    "               \"Mozilla/5.0 (Windows NT 6.1; WOW64) AppleWebKit/537.36 (KHTML, like Gecko) Chrome/41.0.2227.0 Safari/537.36\",\n",
    "               )\n",
    "        ua = uas[random.randrange(len(uas))]\n",
    "        headers = {'user-agent': ua}\n",
    "        resp = req.get(u, headers=headers)\n",
    "        c = resp.content\n",
    "        soup = BeautifulSoup(c, features='lxml')\n",
    "        return soup\n",
    "    except req.exceptions.HTTPError as e:\n",
    "        print(e)\n",
    "        sys.exit(1)"
   ]
  },
  {
   "cell_type": "code",
   "execution_count": 12,
   "metadata": {
    "scrolled": false
   },
   "outputs": [],
   "source": [
    "def get_all_urls(url):\n",
    "    soup = making_soup(url)\n",
    "    a_tags = soup.findAll('a')\n",
    "    \n",
    "    list_of_urls = []\n",
    "    for a in a_tags:\n",
    "        try:\n",
    "            my_href = a['href']\n",
    "            if my_href[0:4] == 'http':\n",
    "                list_of_urls.append(my_href)\n",
    "            else:\n",
    "                pass\n",
    "        except:\n",
    "            pass\n",
    "    \n",
    "    return list_of_urls"
   ]
  },
  {
   "cell_type": "code",
   "execution_count": 11,
   "metadata": {
    "scrolled": false
   },
   "outputs": [
    {
     "data": {
      "text/plain": [
       "['https://propiedades.elmercurio.com/',\n",
       " 'https://digital.lasegunda.com/',\n",
       " 'https://comentarista.emol.com/',\n",
       " 'https://tv.emol.com/',\n",
       " 'https://comentarista.emol.com/252977/11214102/Pato-Luque.html',\n",
       " 'https://www.emol.com/noticias/Nacional/2020/02/11/976243/Rebaja-en-pasajes-adulto-mayor.html#comentarios',\n",
       " 'https://www.emol.com/noticias/Nacional/2020/02/11/976243/Rebaja-en-pasajes-adulto-mayor.html#comentarios',\n",
       " 'https://www.emol.com/noticias/Economia/2020/02/10/976238/Codigo-de-aguas-debate.html#comentarios',\n",
       " 'https://www.emol.com/noticias/Economia/2020/02/10/976238/Codigo-de-aguas-debate.html#comentarios',\n",
       " 'https://www.emol.com/noticias/Espectaculos/2020/02/11/976250/Humoristas-Festival-de-Vina-2020.html#comentarios',\n",
       " 'https://www.emol.com/noticias/Espectaculos/2020/02/11/976250/Humoristas-Festival-de-Vina-2020.html#comentarios',\n",
       " 'https://propiedades.elmercurio.com/',\n",
       " 'https://digital.lasegunda.com/']"
      ]
     },
     "execution_count": 11,
     "metadata": {},
     "output_type": "execute_result"
    }
   ],
   "source": [
    "get_all_urls('https://www.emol.com/')"
   ]
  }
 ],
 "metadata": {
  "kernelspec": {
   "display_name": "Python 3",
   "language": "python",
   "name": "python3"
  },
  "language_info": {
   "codemirror_mode": {
    "name": "ipython",
    "version": 3
   },
   "file_extension": ".py",
   "mimetype": "text/x-python",
   "name": "python",
   "nbconvert_exporter": "python",
   "pygments_lexer": "ipython3",
   "version": "3.7.6"
  }
 },
 "nbformat": 4,
 "nbformat_minor": 2
}
