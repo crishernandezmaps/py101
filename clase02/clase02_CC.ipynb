{
 "cells": [
  {
   "cell_type": "markdown",
   "metadata": {},
   "source": [
    "# PY101: Clase 02: Python Básico\n",
    "## Objetivo\n",
    "> El objetivo de esta clase es poder comprender las funcionalidades básicas de Python en Jupyter Notebook.\n",
    "\n",
    "> **Nota**: material en parte contiene contenido adaptado desde *Learning Python3*. Creado por https://gist.github.com/kenjyco\n",
    "\n",
    "## Contenido\n",
    "1. Funciones\n",
    "2. For Loops\n",
    "3. If Statements\n",
    "4. Modulos\n",
    "5. Proyecto - Otros"
   ]
  },
  {
   "cell_type": "markdown",
   "metadata": {},
   "source": [
    "## 1. Positional arguments and keyword arguments to callables\n",
    "\n",
    "You can call a function/method in a number of different ways:\n",
    "\n",
    "- `func()`: Call `func` with no arguments\n",
    "- `func(arg)`: Call `func` with one positional argument\n",
    "- `func(arg1, arg2)`: Call `func` with two positional arguments\n",
    "- `func(arg1, arg2, ..., argn)`: Call `func` with many positional arguments\n",
    "- `func(kwarg=value)`: Call `func` with one keyword argument \n",
    "- `func(kwarg1=value1, kwarg2=value2)`: Call `func` with two keyword arguments\n",
    "- `func(kwarg1=value1, kwarg2=value2, ..., kwargn=valuen)`: Call `func` with many keyword arguments\n",
    "- `func(arg1, arg2, kwarg1=value1, kwarg2=value2)`: Call `func` with positonal arguments and keyword arguments\n",
    "- `obj.method()`: Same for `func`.. and every other `func` example\n",
    "\n",
    "When using **positional arguments**, you must provide them in the order that the function defined them (the function's **signature**).\n",
    "\n",
    "When using **keyword arguments**, you can provide the arguments you want, in any order you want, as long as you specify each argument's name.\n",
    "\n",
    "When using positional and keyword arguments, positional arguments must come first."
   ]
  },
  {
   "cell_type": "code",
<<<<<<< HEAD:clase02/clase02_emilio.ipynb
   "execution_count": 9,
=======
   "execution_count": 7,
>>>>>>> a0ea567f3f3c665e63dd6d639e920cc9538c78cb:clase02/clase02_CC.ipynb
   "metadata": {},
   "outputs": [
    {
     "data": {
      "text/plain": [
<<<<<<< HEAD:clase02/clase02_emilio.ipynb
       "'Hi , Hola  Bienvenido al mundo'"
      ]
     },
     "execution_count": 9,
=======
       "'Hi, you \"are\" all set!'"
      ]
     },
     "execution_count": 7,
>>>>>>> a0ea567f3f3c665e63dd6d639e920cc9538c78cb:clase02/clase02_CC.ipynb
     "metadata": {},
     "output_type": "execute_result"
    }
   ],
   "source": [
<<<<<<< HEAD:clase02/clase02_emilio.ipynb
    "#Practice\n",
    "def no_arguments():\n",
    "    return ( 'Hi , Hola  Bienvenido al mundo')\n",
    "\n",
    "no_arguments()\n",
    "    "
=======
    "# Practice\n",
    "def no_arguments(): \n",
    "    return ('Hi, you \"are\" all set!')\n",
    "\n",
    "\n",
    "no_arguments()"
>>>>>>> a0ea567f3f3c665e63dd6d639e920cc9538c78cb:clase02/clase02_CC.ipynb
   ]
  },
  {
   "cell_type": "code",
<<<<<<< HEAD:clase02/clase02_emilio.ipynb
   "execution_count": 7,
   "metadata": {},
=======
   "execution_count": 12,
   "metadata": {
    "scrolled": false
   },
>>>>>>> a0ea567f3f3c665e63dd6d639e920cc9538c78cb:clase02/clase02_CC.ipynb
   "outputs": [
    {
     "name": "stdout",
     "output_type": "stream",
     "text": [
<<<<<<< HEAD:clase02/clase02_emilio.ipynb
      "Emilio Hi , Hola  Bienvenido al mundo\n"
=======
      "Cristian Hi, you \"are\" all set!\n"
>>>>>>> a0ea567f3f3c665e63dd6d639e920cc9538c78cb:clase02/clase02_CC.ipynb
     ]
    }
   ],
   "source": [
<<<<<<< HEAD:clase02/clase02_emilio.ipynb
    "#first method , works for all python versions\n",
    "my_name = 'Emilio'\n",
    "concat_1 = my_name + ' '+ no_arguments()\n",
    "print (concat_1)"
=======
    "#Concatenate srings: firts method (all Python versions)\n",
    "my_name = 'Cristian'\n",
    "concact_1 = my_name + ' ' + no_arguments()\n",
    "print(contact_1)"
>>>>>>> a0ea567f3f3c665e63dd6d639e920cc9538c78cb:clase02/clase02_CC.ipynb
   ]
  },
  {
   "cell_type": "code",
<<<<<<< HEAD:clase02/clase02_emilio.ipynb
   "execution_count": 11,
=======
   "execution_count": 13,
>>>>>>> a0ea567f3f3c665e63dd6d639e920cc9538c78cb:clase02/clase02_CC.ipynb
   "metadata": {},
   "outputs": [
    {
     "name": "stdout",
     "output_type": "stream",
     "text": [
<<<<<<< HEAD:clase02/clase02_emilio.ipynb
      "Emilio Hi , Hola  Bienvenido al mundo bienvenide\n"
=======
      "Cristian Hi, you \"are\" all set! bienvenido\n"
>>>>>>> a0ea567f3f3c665e63dd6d639e920cc9538c78cb:clase02/clase02_CC.ipynb
     ]
    }
   ],
   "source": [
<<<<<<< HEAD:clase02/clase02_emilio.ipynb
    "#Concatenate strings : Second Method (work for Python3+)\n",
    "concat_2 = '{} {} {}'.format(my_name, no_arguments(), 'bienvenide')\n",
=======
    "#Concatenate strings: second method (Python3 and above)\n",
    "concat_2 = '{} {} {}'.format(my_name, no_arguments(), 'bienvenido')\n",
>>>>>>> a0ea567f3f3c665e63dd6d639e920cc9538c78cb:clase02/clase02_CC.ipynb
    "print(concat_2)"
   ]
  },
  {
   "cell_type": "code",
<<<<<<< HEAD:clase02/clase02_emilio.ipynb
   "execution_count": 14,
   "metadata": {},
=======
   "execution_count": 15,
   "metadata": {
    "scrolled": true
   },
>>>>>>> a0ea567f3f3c665e63dd6d639e920cc9538c78cb:clase02/clase02_CC.ipynb
   "outputs": [
    {
     "name": "stdout",
     "output_type": "stream",
     "text": [
<<<<<<< HEAD:clase02/clase02_emilio.ipynb
      "Emilio Hi , Hola  Bienvenido al mundo\n"
=======
      "Cristian Hi, you \"are\" all set!\n"
>>>>>>> a0ea567f3f3c665e63dd6d639e920cc9538c78cb:clase02/clase02_CC.ipynb
     ]
    }
   ],
   "source": [
<<<<<<< HEAD:clase02/clase02_emilio.ipynb
    "#Concatenate strings : Second Method (work for Python3.6+)\n",
    "concat_3 = f'{my_name} {no_arguments()}'\n",
=======
    "#Concatenate strings: third method (Python3.6 and above)\n",
    "concat_3 = f'{my_name} {no_arguments ()}'\n",
>>>>>>> a0ea567f3f3c665e63dd6d639e920cc9538c78cb:clase02/clase02_CC.ipynb
    "print(concat_3)"
   ]
  },
  {
   "cell_type": "markdown",
   "metadata": {},
   "source": [
<<<<<<< HEAD:clase02/clase02_emilio.ipynb
    "##  one & two argumentos function"
=======
    "### One and two aruments function"
>>>>>>> a0ea567f3f3c665e63dd6d639e920cc9538c78cb:clase02/clase02_CC.ipynb
   ]
  },
  {
   "cell_type": "code",
   "execution_count": 23,
   "metadata": {},
   "outputs": [
    {
     "data": {
      "text/plain": [
<<<<<<< HEAD:clase02/clase02_emilio.ipynb
       "'Juan. Hi , Hola  Bienvenido al mundo'"
=======
       "'Juana. Hi, you are all set!'"
>>>>>>> a0ea567f3f3c665e63dd6d639e920cc9538c78cb:clase02/clase02_CC.ipynb
      ]
     },
     "execution_count": 23,
     "metadata": {},
     "output_type": "execute_result"
    }
   ],
   "source": [
<<<<<<< HEAD:clase02/clase02_emilio.ipynb
    "# 1 argumento\n",
    "def single_arguments(name):\n",
    "    return f'{name}. Hi , Hola  Bienvenido al mundo'\n",
    "\n",
    "single_arguments('Juan')"
=======
    "def single_arguments(name):\n",
    "    return f'{name}. Hi, you are all set!'\n",
    "\n",
    "single_arguments('Juana')"
>>>>>>> a0ea567f3f3c665e63dd6d639e920cc9538c78cb:clase02/clase02_CC.ipynb
   ]
  },
  {
   "cell_type": "code",
<<<<<<< HEAD:clase02/clase02_emilio.ipynb
   "execution_count": 27,
=======
   "execution_count": 31,
>>>>>>> a0ea567f3f3c665e63dd6d639e920cc9538c78cb:clase02/clase02_CC.ipynb
   "metadata": {},
   "outputs": [
    {
     "data": {
      "text/plain": [
<<<<<<< HEAD:clase02/clase02_emilio.ipynb
       "'Juan , Qui hubo'"
      ]
     },
     "execution_count": 27,
=======
       "'Juana, Hola'"
      ]
     },
     "execution_count": 31,
>>>>>>> a0ea567f3f3c665e63dd6d639e920cc9538c78cb:clase02/clase02_CC.ipynb
     "metadata": {},
     "output_type": "execute_result"
    }
   ],
   "source": [
<<<<<<< HEAD:clase02/clase02_emilio.ipynb
    "# 2 argumentos\n",
    "def multiple_arguments(name, message):\n",
    "    return f'{name} , {message}'\n",
    "\n",
    "multiple_arguments('Juan','Qui hubo')"
=======
    "def multiple_arguments(name, message):\n",
    "    return f'{name}, {message}'\n",
    "\n",
    "multiple_arguments('Juana', 'Hola')"
   ]
  },
  {
   "cell_type": "code",
   "execution_count": 31,
   "metadata": {},
   "outputs": [
    {
     "data": {
      "text/plain": [
       "'Juana, Hola'"
      ]
     },
     "execution_count": 31,
     "metadata": {},
     "output_type": "execute_result"
    }
   ],
   "source": [
    "def multiple_by(num):\n",
    "    \n",
    "    return \n",
    "\n",
    "multiple_arguments"
>>>>>>> a0ea567f3f3c665e63dd6d639e920cc9538c78cb:clase02/clase02_CC.ipynb
   ]
  },
  {
   "cell_type": "markdown",
   "metadata": {},
   "source": [
    "## 2. Python \"for loops\"\n",
    "\n",
    "It is easy to **iterate** over a collection of items using a **for loop**. The strings, lists, tuples, sets, and dictionaries we defined are all **iterable** containers.\n",
    "\n",
    "The for loop will go through the specified container, one item at a time, and provide a temporary variable for the current item. You can use this temporary variable like a normal variable."
   ]
  },
  {
   "cell_type": "code",
<<<<<<< HEAD:clase02/clase02_emilio.ipynb
   "execution_count": 36,
=======
   "execution_count": 37,
>>>>>>> a0ea567f3f3c665e63dd6d639e920cc9538c78cb:clase02/clase02_CC.ipynb
   "metadata": {},
   "outputs": [],
   "source": [
    "# Practice\n",
<<<<<<< HEAD:clase02/clase02_emilio.ipynb
    "list_to_loop_int = [1,2,3,4,5]\n",
    "list_to_loop_str = ['dog', 'cat', 'horse','bird', 'elephant']"
=======
    "\n",
    "list_to_loop_int = [1, 2, 3, 4, 5]\n",
    "list_to_loop_str = ['Dog', 'Cat', 'Horse', 'Bird', 'Elephant']"
>>>>>>> a0ea567f3f3c665e63dd6d639e920cc9538c78cb:clase02/clase02_CC.ipynb
   ]
  },
  {
   "cell_type": "code",
<<<<<<< HEAD:clase02/clase02_emilio.ipynb
   "execution_count": 38,
=======
   "execution_count": 40,
>>>>>>> a0ea567f3f3c665e63dd6d639e920cc9538c78cb:clase02/clase02_CC.ipynb
   "metadata": {},
   "outputs": [
    {
     "name": "stdout",
     "output_type": "stream",
     "text": [
<<<<<<< HEAD:clase02/clase02_emilio.ipynb
      "dog\n",
      "cat\n",
      "horse\n",
      "bird\n",
      "elephant\n"
=======
      "The Dog is an animal with lenght of\n",
      "The Cat is an animal with lenght of\n",
      "The Horse is an animal with lenght of\n",
      "The Bird is an animal with lenght of\n",
      "The Elephant is an animal with lenght of\n"
>>>>>>> a0ea567f3f3c665e63dd6d639e920cc9538c78cb:clase02/clase02_CC.ipynb
     ]
    }
   ],
   "source": [
<<<<<<< HEAD:clase02/clase02_emilio.ipynb
    "for element in list_to_loop_str:\n",
    "    print(element)"
   ]
  },
  {
   "cell_type": "code",
   "execution_count": 39,
   "metadata": {},
   "outputs": [
    {
     "name": "stdout",
     "output_type": "stream",
     "text": [
      "El 1 es <class 'str'>\n",
      "El 2 es <class 'str'>\n",
      "El 3 es <class 'str'>\n",
      "El 4 es <class 'str'>\n",
      "El 5 es <class 'str'>\n"
     ]
    }
   ],
   "source": [
    "for element in list_to_loop_int:\n",
    "    to_string = str(element)\n",
    "    print (f'El {element} es {type(str(element))}')\n",
    "    #Aqui puedo usar formulas para adentro del print"
=======
    "for element in list_to_loop_str: \n",
    "    print(f'The {element} is an animal with lenght of')"
>>>>>>> a0ea567f3f3c665e63dd6d639e920cc9538c78cb:clase02/clase02_CC.ipynb
   ]
  },
  {
   "cell_type": "code",
   "execution_count": 58,
   "metadata": {},
   "outputs": [
    {
     "name": "stdout",
     "output_type": "stream",
     "text": [
      "El dog is an animal with lenght of 3 letters\n",
      "El cat is an animal with lenght of 3 letters\n",
      "El horse is an animal with lenght of 5 letters\n",
      "El bird is an animal with lenght of 4 letters\n",
      "El elephant is an animal with lenght of 8 letters\n"
     ]
    }
   ],
   "source": [
    "for element in list_to_loop_str:\n",
    "    to_string = str(element)\n",
    "    print (f'El {element} is an animal with lenght of {len(element)} letters')"
   ]
  },
  {
   "cell_type": "code",
   "execution_count": null,
   "metadata": {},
   "outputs": [],
   "source": []
  },
  {
   "cell_type": "markdown",
   "metadata": {},
   "source": [
    "## 3. Python \"if statements\" and \"while loops\"\n",
    "\n",
    "Conditional expressions can be used with these two **conditional statements**.\n",
    "\n",
    "The **if statement** allows you to test a condition and perform some actions if the condition evaluates to `True`. You can also provide `elif` and/or `else` clauses to an if statement to take alternative actions if the condition evaluates to `False`.\n",
    "\n",
    "The **while loop** will keep looping until its conditional expression evaluates to `False`.\n",
    "\n",
    "> Note: It is possible to \"loop forever\" when using a while loop with a conditional expression that never evaluates to `False`.\n",
    ">\n",
    "> Note: Since the **for loop** will iterate over a container of items until there are no more, there is no need to specify a \"stop looping\" condition."
   ]
  },
  {
   "cell_type": "code",
<<<<<<< HEAD:clase02/clase02_emilio.ipynb
   "execution_count": 73,
   "metadata": {},
   "outputs": [
    {
     "ename": "SyntaxError",
     "evalue": "invalid syntax (<ipython-input-73-74de511fb858>, line 7)",
     "output_type": "error",
     "traceback": [
      "\u001b[0;36m  File \u001b[0;32m\"<ipython-input-73-74de511fb858>\"\u001b[0;36m, line \u001b[0;32m7\u001b[0m\n\u001b[0;31m    else:\u001b[0m\n\u001b[0m       ^\u001b[0m\n\u001b[0;31mSyntaxError\u001b[0m\u001b[0;31m:\u001b[0m invalid syntax\n"
     ]
    }
   ],
   "source": [
    "def check_animals_names (string_to_check):\n",
    "    num= 5\n",
    "    if len(string_to_check) >= num:\n",
    "         result = f'The lenght of  {string_to_check} is more than {num}'\n",
    "    return result\n",
    "\n",
    "    else:\n",
    "        result = f'The lenght of  {string_to_check} is less than {num}'\n",
    "        return result\n"
   ]
  },
  {
   "cell_type": "code",
   "execution_count": null,
   "metadata": {},
   "outputs": [],
   "source": []
  },
  {
   "cell_type": "code",
   "execution_count": 64,
   "metadata": {},
   "outputs": [
    {
     "ename": "IndentationError",
     "evalue": "expected an indented block (<ipython-input-64-62d93d4f2050>, line 2)",
     "output_type": "error",
     "traceback": [
      "\u001b[0;36m  File \u001b[0;32m\"<ipython-input-64-62d93d4f2050>\"\u001b[0;36m, line \u001b[0;32m2\u001b[0m\n\u001b[0;31m    check_animals_names(element)\u001b[0m\n\u001b[0m                      ^\u001b[0m\n\u001b[0;31mIndentationError\u001b[0m\u001b[0;31m:\u001b[0m expected an indented block\n"
     ]
    }
   ],
   "source": [
    "for element in list_to_loop_str:\n",
    "check_animals_names(element)"
   ]
  },
  {
   "cell_type": "code",
   "execution_count": null,
   "metadata": {},
   "outputs": [],
   "source": [
    "#Zupcode \n",
    "\n",
    "def finding_best_place_to_work(proximity,community,mood):\n",
    "        proximity = your_home\n",
    "        community = people_with_your_same_interests\n",
    "        mood = focus + networking\n",
    "    if proximity and community and mood:\n",
    "        return \"Come to Zupwork\"\n",
    "    else:\n",
    "        return \"Go to AnyotherCowork\"\n",
    "    \n",
    "Finding_best_place_to_work(\"Maipu\",\"Programmers\",\"Productity\")\n",
=======
   "execution_count": null,
   "metadata": {
    "scrolled": true
   },
   "outputs": [],
   "source": [
    "\n",
>>>>>>> a0ea567f3f3c665e63dd6d639e920cc9538c78cb:clase02/clase02_CC.ipynb
    "\n"
   ]
  },
  {
   "cell_type": "markdown",
   "metadata": {},
   "source": [
    "## 4. Importing modules"
   ]
  },
  {
   "cell_type": "code",
<<<<<<< HEAD:clase02/clase02_emilio.ipynb
   "execution_count": 77,
=======
   "execution_count": 41,
>>>>>>> a0ea567f3f3c665e63dd6d639e920cc9538c78cb:clase02/clase02_CC.ipynb
   "metadata": {},
   "outputs": [],
   "source": [
    "# import module\n",
    "import pandas\n"
   ]
  },
  {
   "cell_type": "code",
<<<<<<< HEAD:clase02/clase02_emilio.ipynb
   "execution_count": 78,
=======
   "execution_count": 42,
   "metadata": {},
   "outputs": [
    {
     "data": {
      "text/plain": [
       "['Categorical',\n",
       " 'CategoricalIndex',\n",
       " 'DataFrame',\n",
       " 'DateOffset',\n",
       " 'DatetimeIndex',\n",
       " 'ExcelFile',\n",
       " 'ExcelWriter',\n",
       " 'Expr',\n",
       " 'Float64Index',\n",
       " 'Grouper',\n",
       " 'HDFStore',\n",
       " 'Index',\n",
       " 'IndexSlice',\n",
       " 'Int64Index',\n",
       " 'Interval',\n",
       " 'IntervalIndex',\n",
       " 'MultiIndex',\n",
       " 'NaT',\n",
       " 'Panel',\n",
       " 'Period',\n",
       " 'PeriodIndex',\n",
       " 'RangeIndex',\n",
       " 'Series',\n",
       " 'SparseArray',\n",
       " 'SparseDataFrame',\n",
       " 'SparseSeries',\n",
       " 'Term',\n",
       " 'TimeGrouper',\n",
       " 'Timedelta',\n",
       " 'TimedeltaIndex',\n",
       " 'Timestamp',\n",
       " 'UInt64Index',\n",
       " 'WidePanel',\n",
       " '_DeprecatedModule',\n",
       " '__builtins__',\n",
       " '__cached__',\n",
       " '__doc__',\n",
       " '__docformat__',\n",
       " '__file__',\n",
       " '__loader__',\n",
       " '__name__',\n",
       " '__package__',\n",
       " '__path__',\n",
       " '__spec__',\n",
       " '__version__',\n",
       " '_hashtable',\n",
       " '_lib',\n",
       " '_libs',\n",
       " '_np_version_under1p10',\n",
       " '_np_version_under1p11',\n",
       " '_np_version_under1p12',\n",
       " '_np_version_under1p13',\n",
       " '_np_version_under1p14',\n",
       " '_np_version_under1p15',\n",
       " '_tslib',\n",
       " '_version',\n",
       " 'api',\n",
       " 'bdate_range',\n",
       " 'compat',\n",
       " 'concat',\n",
       " 'core',\n",
       " 'crosstab',\n",
       " 'cut',\n",
       " 'date_range',\n",
       " 'datetime',\n",
       " 'datetools',\n",
       " 'describe_option',\n",
       " 'errors',\n",
       " 'eval',\n",
       " 'factorize',\n",
       " 'get_dummies',\n",
       " 'get_option',\n",
       " 'get_store',\n",
       " 'groupby',\n",
       " 'infer_freq',\n",
       " 'interval_range',\n",
       " 'io',\n",
       " 'isna',\n",
       " 'isnull',\n",
       " 'json',\n",
       " 'lib',\n",
       " 'lreshape',\n",
       " 'match',\n",
       " 'melt',\n",
       " 'merge',\n",
       " 'merge_asof',\n",
       " 'merge_ordered',\n",
       " 'notna',\n",
       " 'notnull',\n",
       " 'np',\n",
       " 'offsets',\n",
       " 'option_context',\n",
       " 'options',\n",
       " 'pandas',\n",
       " 'parser',\n",
       " 'period_range',\n",
       " 'pivot',\n",
       " 'pivot_table',\n",
       " 'plot_params',\n",
       " 'plotting',\n",
       " 'pnow',\n",
       " 'qcut',\n",
       " 'read_clipboard',\n",
       " 'read_csv',\n",
       " 'read_excel',\n",
       " 'read_feather',\n",
       " 'read_fwf',\n",
       " 'read_gbq',\n",
       " 'read_hdf',\n",
       " 'read_html',\n",
       " 'read_json',\n",
       " 'read_msgpack',\n",
       " 'read_parquet',\n",
       " 'read_pickle',\n",
       " 'read_sas',\n",
       " 'read_sql',\n",
       " 'read_sql_query',\n",
       " 'read_sql_table',\n",
       " 'read_stata',\n",
       " 'read_table',\n",
       " 'reset_option',\n",
       " 'scatter_matrix',\n",
       " 'set_eng_float_format',\n",
       " 'set_option',\n",
       " 'show_versions',\n",
       " 'test',\n",
       " 'testing',\n",
       " 'timedelta_range',\n",
       " 'to_datetime',\n",
       " 'to_msgpack',\n",
       " 'to_numeric',\n",
       " 'to_pickle',\n",
       " 'to_timedelta',\n",
       " 'tools',\n",
       " 'tseries',\n",
       " 'tslib',\n",
       " 'unique',\n",
       " 'util',\n",
       " 'value_counts',\n",
       " 'wide_to_long']"
      ]
     },
     "execution_count": 42,
     "metadata": {},
     "output_type": "execute_result"
    }
   ],
   "source": [
    "dir(pandas)"
   ]
  },
  {
   "cell_type": "code",
   "execution_count": 12,
>>>>>>> a0ea567f3f3c665e63dd6d639e920cc9538c78cb:clase02/clase02_CC.ipynb
   "metadata": {},
   "outputs": [
    {
     "name": "stdout",
     "output_type": "stream",
     "text": [
      "Help on package pandas:\n",
      "\n",
      "NAME\n",
      "    pandas\n",
      "\n",
      "DESCRIPTION\n",
      "    pandas - a powerful data analysis and manipulation library for Python\n",
      "    =====================================================================\n",
      "    \n",
      "    **pandas** is a Python package providing fast, flexible, and expressive data\n",
      "    structures designed to make working with \"relational\" or \"labeled\" data both\n",
      "    easy and intuitive. It aims to be the fundamental high-level building block for\n",
      "    doing practical, **real world** data analysis in Python. Additionally, it has\n",
      "    the broader goal of becoming **the most powerful and flexible open source data\n",
      "    analysis / manipulation tool available in any language**. It is already well on\n",
      "    its way toward this goal.\n",
      "    \n",
      "    Main Features\n",
      "    -------------\n",
      "    Here are just a few of the things that pandas does well:\n",
      "    \n",
      "      - Easy handling of missing data in floating point as well as non-floating\n",
      "        point data.\n",
      "      - Size mutability: columns can be inserted and deleted from DataFrame and\n",
      "        higher dimensional objects\n",
      "      - Automatic and explicit data alignment: objects can be explicitly aligned\n",
      "        to a set of labels, or the user can simply ignore the labels and let\n",
      "        `Series`, `DataFrame`, etc. automatically align the data for you in\n",
      "        computations.\n",
      "      - Powerful, flexible group by functionality to perform split-apply-combine\n",
      "        operations on data sets, for both aggregating and transforming data.\n",
      "      - Make it easy to convert ragged, differently-indexed data in other Python\n",
      "        and NumPy data structures into DataFrame objects.\n",
      "      - Intelligent label-based slicing, fancy indexing, and subsetting of large\n",
      "        data sets.\n",
      "      - Intuitive merging and joining data sets.\n",
      "      - Flexible reshaping and pivoting of data sets.\n",
      "      - Hierarchical labeling of axes (possible to have multiple labels per tick).\n",
      "      - Robust IO tools for loading data from flat files (CSV and delimited),\n",
      "        Excel files, databases, and saving/loading data from the ultrafast HDF5\n",
      "        format.\n",
      "      - Time series-specific functionality: date range generation and frequency\n",
      "        conversion, moving window statistics, moving window linear regressions,\n",
      "        date shifting and lagging, etc.\n",
      "\n",
      "PACKAGE CONTENTS\n",
      "    _config (package)\n",
      "    _libs (package)\n",
      "    _typing\n",
      "    _version\n",
      "    api (package)\n",
      "    arrays (package)\n",
      "    compat (package)\n",
      "    conftest\n",
      "    core (package)\n",
      "    errors (package)\n",
      "    io (package)\n",
      "    plotting (package)\n",
      "    testing\n",
      "    tests (package)\n",
      "    tseries (package)\n",
      "    util (package)\n",
      "\n",
      "SUBMODULES\n",
      "    _hashtable\n",
      "    _lib\n",
      "    _tslib\n",
      "    offsets\n",
      "\n",
      "FUNCTIONS\n",
      "    __getattr__(name)\n",
      "\n",
      "DATA\n",
      "    IndexSlice = <pandas.core.indexing._IndexSlice object>\n",
      "    NaT = NaT\n",
      "    __docformat__ = 'restructuredtext'\n",
      "    __git_version__ = '62a87bf4a2af02a8d3bc271ad26e5994292b8e6a'\n",
      "    describe_option = <pandas._config.config.CallableDynamicDoc object>\n",
      "    get_option = <pandas._config.config.CallableDynamicDoc object>\n",
      "    options = <pandas._config.config.DictWrapper object>\n",
      "    reset_option = <pandas._config.config.CallableDynamicDoc object>\n",
      "    set_option = <pandas._config.config.CallableDynamicDoc object>\n",
      "\n",
      "VERSION\n",
      "    0.25.3\n",
      "\n",
      "FILE\n",
      "    /usr/local/lib/python3.7/site-packages/pandas/__init__.py\n",
      "\n",
      "\n"
     ]
    }
   ],
   "source": [
    "# Print documentation\n",
    "help(pandas)"
   ]
  },
  {
   "cell_type": "code",
   "execution_count": 80,
   "metadata": {
    "scrolled": false
   },
   "outputs": [
    {
     "data": {
      "text/plain": [
       "['Categorical',\n",
       " 'CategoricalDtype',\n",
       " 'CategoricalIndex',\n",
       " 'DataFrame',\n",
       " 'DateOffset',\n",
       " 'DatetimeIndex',\n",
       " 'DatetimeTZDtype',\n",
       " 'ExcelFile',\n",
       " 'ExcelWriter',\n",
       " 'Float64Index',\n",
       " 'Grouper',\n",
       " 'HDFStore',\n",
       " 'Index',\n",
       " 'IndexSlice',\n",
       " 'Int16Dtype',\n",
       " 'Int32Dtype',\n",
       " 'Int64Dtype',\n",
       " 'Int64Index',\n",
       " 'Int8Dtype',\n",
       " 'Interval',\n",
       " 'IntervalDtype',\n",
       " 'IntervalIndex',\n",
       " 'MultiIndex',\n",
       " 'NaT',\n",
       " 'NamedAgg',\n",
       " 'Period',\n",
       " 'PeriodDtype',\n",
       " 'PeriodIndex',\n",
       " 'RangeIndex',\n",
       " 'Series',\n",
       " 'SparseArray',\n",
       " 'SparseDataFrame',\n",
       " 'SparseDtype',\n",
       " 'SparseSeries',\n",
       " 'Timedelta',\n",
       " 'TimedeltaIndex',\n",
       " 'Timestamp',\n",
       " 'UInt16Dtype',\n",
       " 'UInt32Dtype',\n",
       " 'UInt64Dtype',\n",
       " 'UInt64Index',\n",
       " 'UInt8Dtype',\n",
       " '__builtins__',\n",
       " '__cached__',\n",
       " '__doc__',\n",
       " '__docformat__',\n",
       " '__file__',\n",
       " '__getattr__',\n",
       " '__git_version__',\n",
       " '__loader__',\n",
       " '__name__',\n",
       " '__package__',\n",
       " '__path__',\n",
       " '__spec__',\n",
       " '__version__',\n",
       " '_config',\n",
       " '_hashtable',\n",
       " '_lib',\n",
       " '_libs',\n",
       " '_np_version_under1p14',\n",
       " '_np_version_under1p15',\n",
       " '_np_version_under1p16',\n",
       " '_np_version_under1p17',\n",
       " '_tslib',\n",
       " '_typing',\n",
       " '_version',\n",
       " 'api',\n",
       " 'array',\n",
       " 'arrays',\n",
       " 'bdate_range',\n",
       " 'compat',\n",
       " 'concat',\n",
       " 'core',\n",
       " 'crosstab',\n",
       " 'cut',\n",
       " 'date_range',\n",
       " 'datetime',\n",
       " 'describe_option',\n",
       " 'errors',\n",
       " 'eval',\n",
       " 'factorize',\n",
       " 'get_dummies',\n",
       " 'get_option',\n",
       " 'infer_freq',\n",
       " 'interval_range',\n",
       " 'io',\n",
       " 'isna',\n",
       " 'isnull',\n",
       " 'lreshape',\n",
       " 'melt',\n",
       " 'merge',\n",
       " 'merge_asof',\n",
       " 'merge_ordered',\n",
       " 'notna',\n",
       " 'notnull',\n",
       " 'np',\n",
       " 'offsets',\n",
       " 'option_context',\n",
       " 'options',\n",
       " 'pandas',\n",
       " 'period_range',\n",
       " 'pivot',\n",
       " 'pivot_table',\n",
       " 'plotting',\n",
       " 'qcut',\n",
       " 'read_clipboard',\n",
       " 'read_csv',\n",
       " 'read_excel',\n",
       " 'read_feather',\n",
       " 'read_fwf',\n",
       " 'read_gbq',\n",
       " 'read_hdf',\n",
       " 'read_html',\n",
       " 'read_json',\n",
       " 'read_msgpack',\n",
       " 'read_parquet',\n",
       " 'read_pickle',\n",
       " 'read_sas',\n",
       " 'read_spss',\n",
       " 'read_sql',\n",
       " 'read_sql_query',\n",
       " 'read_sql_table',\n",
       " 'read_stata',\n",
       " 'read_table',\n",
       " 'reset_option',\n",
       " 'set_eng_float_format',\n",
       " 'set_option',\n",
       " 'show_versions',\n",
       " 'test',\n",
       " 'testing',\n",
       " 'timedelta_range',\n",
       " 'to_datetime',\n",
       " 'to_msgpack',\n",
       " 'to_numeric',\n",
       " 'to_pickle',\n",
       " 'to_timedelta',\n",
       " 'tseries',\n",
       " 'unique',\n",
       " 'util',\n",
       " 'value_counts',\n",
       " 'wide_to_long']"
      ]
     },
     "execution_count": 80,
     "metadata": {},
     "output_type": "execute_result"
    }
   ],
   "source": [
    "# Print all functions included in module\n",
    "dir(pandas)"
   ]
  },
  {
   "cell_type": "code",
   "execution_count": 18,
   "metadata": {},
   "outputs": [],
   "source": [
    "# Abreviate a module\n",
    "import pandas as pd"
   ]
  },
  {
   "cell_type": "code",
   "execution_count": 19,
   "metadata": {},
   "outputs": [
    {
     "name": "stdout",
     "output_type": "stream",
     "text": [
      "Help on package pandas:\n",
      "\n",
      "NAME\n",
      "    pandas\n",
      "\n",
      "DESCRIPTION\n",
      "    pandas - a powerful data analysis and manipulation library for Python\n",
      "    =====================================================================\n",
      "    \n",
      "    **pandas** is a Python package providing fast, flexible, and expressive data\n",
      "    structures designed to make working with \"relational\" or \"labeled\" data both\n",
      "    easy and intuitive. It aims to be the fundamental high-level building block for\n",
      "    doing practical, **real world** data analysis in Python. Additionally, it has\n",
      "    the broader goal of becoming **the most powerful and flexible open source data\n",
      "    analysis / manipulation tool available in any language**. It is already well on\n",
      "    its way toward this goal.\n",
      "    \n",
      "    Main Features\n",
      "    -------------\n",
      "    Here are just a few of the things that pandas does well:\n",
      "    \n",
      "      - Easy handling of missing data in floating point as well as non-floating\n",
      "        point data.\n",
      "      - Size mutability: columns can be inserted and deleted from DataFrame and\n",
      "        higher dimensional objects\n",
      "      - Automatic and explicit data alignment: objects can be explicitly aligned\n",
      "        to a set of labels, or the user can simply ignore the labels and let\n",
      "        `Series`, `DataFrame`, etc. automatically align the data for you in\n",
      "        computations.\n",
      "      - Powerful, flexible group by functionality to perform split-apply-combine\n",
      "        operations on data sets, for both aggregating and transforming data.\n",
      "      - Make it easy to convert ragged, differently-indexed data in other Python\n",
      "        and NumPy data structures into DataFrame objects.\n",
      "      - Intelligent label-based slicing, fancy indexing, and subsetting of large\n",
      "        data sets.\n",
      "      - Intuitive merging and joining data sets.\n",
      "      - Flexible reshaping and pivoting of data sets.\n",
      "      - Hierarchical labeling of axes (possible to have multiple labels per tick).\n",
      "      - Robust IO tools for loading data from flat files (CSV and delimited),\n",
      "        Excel files, databases, and saving/loading data from the ultrafast HDF5\n",
      "        format.\n",
      "      - Time series-specific functionality: date range generation and frequency\n",
      "        conversion, moving window statistics, moving window linear regressions,\n",
      "        date shifting and lagging, etc.\n",
      "\n",
      "PACKAGE CONTENTS\n",
      "    _libs (package)\n",
      "    _version\n",
      "    api (package)\n",
      "    compat (package)\n",
      "    computation (package)\n",
      "    conftest\n",
      "    core (package)\n",
      "    errors (package)\n",
      "    formats (package)\n",
      "    io (package)\n",
      "    json\n",
      "    lib\n",
      "    parser\n",
      "    plotting (package)\n",
      "    testing\n",
      "    tests (package)\n",
      "    tools (package)\n",
      "    tseries (package)\n",
      "    tslib\n",
      "    types (package)\n",
      "    util (package)\n",
      "\n",
      "SUBMODULES\n",
      "    _hashtable\n",
      "    _lib\n",
      "    _tslib\n",
      "    offsets\n",
      "\n",
      "DATA\n",
      "    IndexSlice = <pandas.core.indexing._IndexSlice object>\n",
      "    NaT = NaT\n",
      "    __docformat__ = 'restructuredtext'\n",
      "    datetools = <module 'pandas.core.datetools' from '/usr/local...ython3....\n",
      "    describe_option = <pandas.core.config.CallableDynamicDoc object>\n",
      "    get_option = <pandas.core.config.CallableDynamicDoc object>\n",
      "    options = <pandas.core.config.DictWrapper object>\n",
      "    plot_params = {'xaxis.compat': False}\n",
      "    reset_option = <pandas.core.config.CallableDynamicDoc object>\n",
      "    set_option = <pandas.core.config.CallableDynamicDoc object>\n",
      "\n",
      "VERSION\n",
      "    0.23.4\n",
      "\n",
      "FILE\n",
      "    /usr/local/lib/python3.7/site-packages/pandas/__init__.py\n",
      "\n",
      "\n"
     ]
    }
   ],
   "source": [
    "help(pd)"
   ]
  },
  {
   "cell_type": "code",
   "execution_count": 20,
   "metadata": {},
   "outputs": [],
   "source": [
    "# Practice"
   ]
  }
 ],
 "metadata": {
  "kernelspec": {
   "display_name": "Python 3",
   "language": "python",
   "name": "python3"
  },
  "language_info": {
   "codemirror_mode": {
    "name": "ipython",
    "version": 3
   },
   "file_extension": ".py",
   "mimetype": "text/x-python",
   "name": "python",
   "nbconvert_exporter": "python",
   "pygments_lexer": "ipython3",
   "version": "3.7.0"
  }
 },
 "nbformat": 4,
 "nbformat_minor": 2
}
