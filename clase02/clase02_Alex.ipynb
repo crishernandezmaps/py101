{
 "cells": [
  {
   "cell_type": "markdown",
   "metadata": {},
   "source": [
    "# PY101: Clase 02: Python Básico\n",
    "## Objetivo\n",
    "> El objetivo de esta clase es poder comprender las funcionalidades básicas de Python en Jupyter Notebook.\n",
    "\n",
    "> **Nota**: material en parte contiene contenido adaptado desde *Learning Python3*. Creado por https://gist.github.com/kenjyco\n",
    "\n",
    "## Contenido\n",
    "1. Funciones\n",
    "2. For Loops\n",
    "3. If Statements\n",
    "4. Modulos\n",
    "5. Proyecto - Otros"
   ]
  },
  {
   "cell_type": "markdown",
   "metadata": {},
   "source": [
    "## 1. Positional arguments and keyword arguments to callables\n",
    "\n",
    "You can call a function/method in a number of different ways:\n",
    "\n",
    "- `func()`: Call `func` with no arguments\n",
    "- `func(arg)`: Call `func` with one positional argument\n",
    "- `func(arg1, arg2)`: Call `func` with two positional arguments\n",
    "- `func(arg1, arg2, ..., argn)`: Call `func` with many positional arguments\n",
    "- `func(kwarg=value)`: Call `func` with one keyword argument \n",
    "- `func(kwarg1=value1, kwarg2=value2)`: Call `func` with two keyword arguments\n",
    "- `func(kwarg1=value1, kwarg2=value2, ..., kwargn=valuen)`: Call `func` with many keyword arguments\n",
    "- `func(arg1, arg2, kwarg1=value1, kwarg2=value2)`: Call `func` with positonal arguments and keyword arguments\n",
    "- `obj.method()`: Same for `func`.. and every other `func` example\n",
    "\n",
    "When using **positional arguments**, you must provide them in the order that the function defined them (the function's **signature**).\n",
    "\n",
    "When using **keyword arguments**, you can provide the arguments you want, in any order you want, as long as you specify each argument's name.\n",
    "\n",
    "When using positional and keyword arguments, positional arguments must come first."
   ]
  },
  {
   "cell_type": "code",
   "execution_count": 6,
   "metadata": {},
   "outputs": [
    {
     "data": {
      "text/plain": [
       "'Hi motherfocker'"
      ]
     },
     "execution_count": 6,
     "metadata": {},
     "output_type": "execute_result"
    }
   ],
   "source": [
    "# Practice\n",
    "\n",
    "def no_arguments ():\n",
    "    return (\"Hi motherfocker\")\n",
    "\n",
    "\n",
    "no_arguments()\n"
   ]
  },
  {
   "cell_type": "code",
   "execution_count": 2,
   "metadata": {},
   "outputs": [],
   "source": [
    "my_name = \"Alex\""
   ]
  },
  {
   "cell_type": "code",
   "execution_count": 8,
   "metadata": {},
   "outputs": [
    {
     "name": "stdout",
     "output_type": "stream",
     "text": [
      "AlexHi motherfocker\n"
     ]
    }
   ],
   "source": [
    "## first method concatenate strings (all python versions)\n",
    "\n",
    "concat_1 = my_name + no_arguments()\n",
    "print (concat_1)"
   ]
  },
  {
   "cell_type": "code",
   "execution_count": 9,
   "metadata": {},
   "outputs": [
    {
     "name": "stdout",
     "output_type": "stream",
     "text": [
      "Alex o0o Hi motherfocker\n"
     ]
    }
   ],
   "source": [
    "## Second method concatanete strings (Python 3 hacia arriba)\n",
    "\n",
    "concat_2 = \"{} o0o {}\".format(my_name,no_arguments())\n",
    "print (concat_2)"
   ]
  },
  {
   "cell_type": "code",
   "execution_count": 14,
   "metadata": {
    "scrolled": true
   },
   "outputs": [
    {
     "name": "stdout",
     "output_type": "stream",
     "text": [
      "Alex Hi motherfocker o0o Alex o0o Hi motherfocker\n"
     ]
    }
   ],
   "source": [
    "## ## Third method concatanete strings (python 3.6 hacia arriba) --> Más eficientes poque tiene menos código\n",
    "concat_3 = f\"{my_name} {no_arguments()} o0o {concat_2}\"\n",
    "print(concat_3)\n",
    "\n"
   ]
  },
  {
   "cell_type": "markdown",
   "metadata": {},
   "source": [
    "#### One and Two Arguments  functions"
   ]
  },
  {
   "cell_type": "code",
   "execution_count": 18,
   "metadata": {},
   "outputs": [
    {
     "data": {
      "text/plain": [
       "'Alex pico pal que lee'"
      ]
     },
     "execution_count": 18,
     "metadata": {},
     "output_type": "execute_result"
    }
   ],
   "source": [
    "name = \"Alex\"\n",
    "\n",
    "def single_arguments (name):\n",
    "    return f\"{name} pico pal que lee\"\n",
    "\n",
    "single_arguments(name)"
   ]
  },
  {
   "cell_type": "code",
   "execution_count": 20,
   "metadata": {},
   "outputs": [
    {
     "data": {
      "text/plain": [
       "'Alex Pico'"
      ]
     },
     "execution_count": 20,
     "metadata": {},
     "output_type": "execute_result"
    }
   ],
   "source": [
    "def multiple_arguments (name, message):\n",
    "    return f\"{name} {message}\"\n",
    "\n",
    "multiple_arguments (name, \"Pico\")"
   ]
  },
  {
   "cell_type": "markdown",
   "metadata": {},
   "source": [
    "## 2. Python \"for loops\"\n",
    "\n",
    "It is easy to **iterate** over a collection of items using a **for loop**. The strings, lists, tuples, sets, and dictionaries we defined are all **iterable** containers.\n",
    "\n",
    "The for loop will go through the specified container, one item at a time, and provide a temporary variable for the current item. You can use this temporary variable like a normal variable."
   ]
  },
  {
   "cell_type": "code",
   "execution_count": 21,
   "metadata": {},
   "outputs": [
    {
     "name": "stdout",
     "output_type": "stream",
     "text": [
      "1\n",
      "2\n",
      "3\n",
      "4\n",
      "5\n"
     ]
    }
   ],
   "source": [
    "# Practice\n",
    "\n",
    "list_to_loop_int =[1, 2, 3, 4, 5]\n",
    "list_to_loop_str = [\"dog\", \"cat\", \"Horse\", \"Bird\", \"Elephant\"]\n",
    "\n",
    "for i in list_to_loop_int:\n",
    "    print (i)"
   ]
  },
  {
   "cell_type": "code",
   "execution_count": 24,
   "metadata": {},
   "outputs": [
    {
     "name": "stdout",
     "output_type": "stream",
     "text": [
      "El 1 es un <class 'str'>\n",
      "El 2 es un <class 'str'>\n",
      "El 3 es un <class 'str'>\n",
      "El 4 es un <class 'str'>\n",
      "El 5 es un <class 'str'>\n"
     ]
    }
   ],
   "source": [
    "for element in list_to_loop_int:\n",
    "    to_string = str(element)\n",
    "    print(f\"El {to_string} es un {type(str(element))}\")"
   ]
  },
  {
   "cell_type": "code",
   "execution_count": 26,
   "metadata": {},
   "outputs": [
    {
     "name": "stdout",
     "output_type": "stream",
     "text": [
      "El dog es un CTM y tiene 3 letras\n",
      "El cat es un CTM y tiene 3 letras\n",
      "El Horse es un CTM y tiene 5 letras\n",
      "El Bird es un CTM y tiene 4 letras\n",
      "El Elephant es un CTM y tiene 8 letras\n"
     ]
    }
   ],
   "source": [
    "for n in list_to_loop_str:\n",
    "    print(f\"El {n} es un CTM y tiene {len(n)} letras\")"
   ]
  },
  {
   "cell_type": "markdown",
   "metadata": {},
   "source": [
    "## 3. Python \"if statements\" and \"while loops\"\n",
    "\n",
    "Conditional expressions can be used with these two **conditional statements**.\n",
    "\n",
    "The **if statement** allows you to test a condition and perform some actions if the condition evaluates to `True`. You can also provide `elif` and/or `else` clauses to an if statement to take alternative actions if the condition evaluates to `False`.\n",
    "\n",
    "The **while loop** will keep looping until its conditional expression evaluates to `False`.\n",
    "\n",
    "> Note: It is possible to \"loop forever\" when using a while loop with a conditional expression that never evaluates to `False`.\n",
    ">\n",
    "> Note: Since the **for loop** will iterate over a container of items until there are no more, there is no need to specify a \"stop looping\" condition."
   ]
  },
  {
   "cell_type": "code",
   "execution_count": 38,
   "metadata": {
    "scrolled": true
   },
   "outputs": [
    {
     "name": "stdout",
     "output_type": "stream",
     "text": [
      "1 es grater than 100\n",
      "101\n"
     ]
    }
   ],
   "source": [
    "num_to_check = 100\n",
    "\n",
    "if num_to_check < 110:\n",
    "    print(f\"1 es grater than {num_to_check}\")\n",
    "    num_to_check = num_to_check + 1\n",
    "else:\n",
    "    print(f\"1 es less than {num_to_check}\")\n",
    "    num_to_check = num_to_check + 1\n",
    "\n",
    "print(num_to_check)\n",
    "\n",
    "\n",
    "\n",
    "def check_animal_names(string_to_check):\n",
    "    num_str = 5\n",
    "    if len(string_to_check) >= num_str:\n",
    "        result = f\"The lenght of {string_to_check} is more than {num_str}\"\n",
    "        return result\n",
    "        \n",
    "    else: \n",
    "        result = f\"The lenght of {string_to_check} is less than {num_str}\"\n",
    "        return result"
   ]
  },
  {
   "cell_type": "code",
   "execution_count": 39,
   "metadata": {},
   "outputs": [
    {
     "name": "stdout",
     "output_type": "stream",
     "text": [
      "The lenght of dog is less than 5\n",
      "The lenght of cat is less than 5\n",
      "The lenght of Horse is more than 5\n",
      "The lenght of Bird is less than 5\n",
      "The lenght of Elephant is more than 5\n"
     ]
    }
   ],
   "source": [
    "for i in list_to_loop_str:\n",
    "    print (check_animal_names(i))\n",
    "    "
   ]
  },
  {
   "cell_type": "code",
   "execution_count": null,
   "metadata": {},
   "outputs": [],
   "source": [
    "### Función del tío Emilio\n",
    "\n",
    "def finding_bestplace (proximity, community , mood)\n",
    "\n",
    "\n",
    "    "
   ]
  },
  {
   "cell_type": "markdown",
   "metadata": {},
   "source": [
    "## 4. Importing modules"
   ]
  },
  {
   "cell_type": "code",
   "execution_count": null,
   "metadata": {},
   "outputs": [],
   "source": [
    "# import module\n",
    "import pandas"
   ]
  },
  {
   "cell_type": "code",
   "execution_count": null,
   "metadata": {},
   "outputs": [],
   "source": [
    "# Print documentation\n",
    "help(pandas)"
   ]
  },
  {
   "cell_type": "code",
   "execution_count": null,
   "metadata": {
    "scrolled": false
   },
   "outputs": [],
   "source": [
    "# Print all functions included in module\n",
    "dir(pandas)"
   ]
  },
  {
   "cell_type": "code",
   "execution_count": null,
   "metadata": {},
   "outputs": [],
   "source": [
    "# Abreviate a module\n",
    "import pandas as pd"
   ]
  },
  {
   "cell_type": "code",
   "execution_count": null,
   "metadata": {},
   "outputs": [],
   "source": [
    "help(pd)"
   ]
  },
  {
   "cell_type": "code",
   "execution_count": null,
   "metadata": {},
   "outputs": [],
   "source": [
    "# Practice"
   ]
  }
 ],
 "metadata": {
  "kernelspec": {
   "display_name": "Python 3",
   "language": "python",
   "name": "python3"
  },
  "language_info": {
   "codemirror_mode": {
    "name": "ipython",
    "version": 3
   },
   "file_extension": ".py",
   "mimetype": "text/x-python",
   "name": "python",
   "nbconvert_exporter": "python",
   "pygments_lexer": "ipython3",
   "version": "3.7.6"
  }
 },
 "nbformat": 4,
 "nbformat_minor": 2
}
